{
 "cells": [
  {
   "cell_type": "code",
   "execution_count": 5,
   "id": "d80bf571",
   "metadata": {},
   "outputs": [],
   "source": [
    "import numpy as np\n",
    "import pandas as pd\n",
    "import matplotlib.pyplot as plt\n",
    "%matplotlib inline"
   ]
  },
  {
   "cell_type": "code",
   "execution_count": 6,
   "id": "2cdca315",
   "metadata": {},
   "outputs": [
    {
     "data": {
      "text/html": [
       "<div>\n",
       "<style scoped>\n",
       "    .dataframe tbody tr th:only-of-type {\n",
       "        vertical-align: middle;\n",
       "    }\n",
       "\n",
       "    .dataframe tbody tr th {\n",
       "        vertical-align: top;\n",
       "    }\n",
       "\n",
       "    .dataframe thead th {\n",
       "        text-align: right;\n",
       "    }\n",
       "</style>\n",
       "<table border=\"1\" class=\"dataframe\">\n",
       "  <thead>\n",
       "    <tr style=\"text-align: right;\">\n",
       "      <th></th>\n",
       "      <th>age</th>\n",
       "      <th>affordibility</th>\n",
       "      <th>bought_insurance</th>\n",
       "    </tr>\n",
       "  </thead>\n",
       "  <tbody>\n",
       "    <tr>\n",
       "      <th>0</th>\n",
       "      <td>22</td>\n",
       "      <td>1</td>\n",
       "      <td>0</td>\n",
       "    </tr>\n",
       "    <tr>\n",
       "      <th>1</th>\n",
       "      <td>25</td>\n",
       "      <td>0</td>\n",
       "      <td>0</td>\n",
       "    </tr>\n",
       "    <tr>\n",
       "      <th>2</th>\n",
       "      <td>47</td>\n",
       "      <td>1</td>\n",
       "      <td>1</td>\n",
       "    </tr>\n",
       "    <tr>\n",
       "      <th>3</th>\n",
       "      <td>52</td>\n",
       "      <td>0</td>\n",
       "      <td>0</td>\n",
       "    </tr>\n",
       "    <tr>\n",
       "      <th>4</th>\n",
       "      <td>46</td>\n",
       "      <td>1</td>\n",
       "      <td>1</td>\n",
       "    </tr>\n",
       "  </tbody>\n",
       "</table>\n",
       "</div>"
      ],
      "text/plain": [
       "   age  affordibility  bought_insurance\n",
       "0   22              1                 0\n",
       "1   25              0                 0\n",
       "2   47              1                 1\n",
       "3   52              0                 0\n",
       "4   46              1                 1"
      ]
     },
     "execution_count": 6,
     "metadata": {},
     "output_type": "execute_result"
    }
   ],
   "source": [
    "#Download csv file from github\n",
    "\n",
    "import requests\n",
    "url = 'https://raw.githubusercontent.com/codebasics/deep-learning-keras-tf-tutorial/master/6_gradient_descent/insurance_data.csv'\n",
    "res = requests.get(url, allow_redirects=True)\n",
    "with open('insurance_data.csv','wb') as file:\n",
    "    file.write(res.content)\n",
    "sales_team = pd.read_csv('insurance_data.csv')\n",
    "\n",
    "df = pd.read_csv('insurance_data.csv')\n",
    "df.head()"
   ]
  },
  {
   "cell_type": "code",
   "execution_count": 7,
   "id": "08557501",
   "metadata": {},
   "outputs": [],
   "source": [
    "#Splitting data into test and train dataset:\n",
    "\n",
    "from sklearn.model_selection import train_test_split\n",
    "x_train , x_test , y_train , y_test = train_test_split(df[['age','affordibility']],df.bought_insurance,test_size = 0.2, random_state = 25)"
   ]
  },
  {
   "cell_type": "code",
   "execution_count": 8,
   "id": "3fb7ea51",
   "metadata": {},
   "outputs": [],
   "source": [
    "# Feature Scaling:\n",
    "\n",
    "x_train_scaled = x_train.copy()\n",
    "x_train_scaled['age'] = x_train_scaled['age']/100\n",
    "\n",
    "x_test_scaled = x_test.copy()\n",
    "x_test_scaled['age'] = x_test_scaled['age']/100"
   ]
  },
  {
   "cell_type": "code",
   "execution_count": 9,
   "id": "44cc5187",
   "metadata": {},
   "outputs": [],
   "source": [
    "def log_loss(y_true , y_predicted):\n",
    "    \n",
    "    epsilon = 1e-15\n",
    "    y_predicted_new = [max(i,epsilon) for i in y_predicted]\n",
    "    y_predicted_new = [min(i,epsilon) for i in y_predicted]\n",
    "    y_predicted_new = np.array(y_predicted_new)\n",
    "    # This was done so that we can get rid of zero by relacing it with a small number close to zero\n",
    "    # as log(0) tends to infinity.\n",
    "    \n",
    "    out = -np.mean(y_true*np.log(y_predicted_new)+(1-y_true)*np.log(1-y_predicted_new))\n",
    "    return out"
   ]
  },
  {
   "cell_type": "code",
   "execution_count": 10,
   "id": "d928b1a9",
   "metadata": {},
   "outputs": [
    {
     "data": {
      "text/plain": [
       "array([0.26894142, 0.11920292, 0.04742587])"
      ]
     },
     "execution_count": 10,
     "metadata": {},
     "output_type": "execute_result"
    }
   ],
   "source": [
    "def sigmoid_np(x):\n",
    "    return 1/(1+np.exp(x))\n",
    "sigmoid_np(np.array([1,2,3]))"
   ]
  },
  {
   "cell_type": "code",
   "execution_count": 11,
   "id": "64ba1fed",
   "metadata": {},
   "outputs": [],
   "source": [
    "class myNN:\n",
    "    \n",
    "    def __init__(self):\n",
    "        self.w1 = 1\n",
    "        self.w2 = 1\n",
    "        self.b = 0\n",
    "    \n",
    "    def fit(self , X , y ,epochs):\n",
    "        self.w1 , self.w2 , slef.b = self.gradient_descent(X['x1'],X['x2'],y,epochs)\n",
    "    \n",
    "    def gradient_descent(self, x1 , x2 , y_true , epochs):\n",
    "        \n",
    "        #Setting up initial parameters:\n",
    "        w1 = 1\n",
    "        w2 = 1\n",
    "        b = 0\n",
    "        rate = 0.5\n",
    "        n = len(x1)\n",
    "        \n",
    "        #Setting up predicted and loss:\n",
    "        for i in range(epochs):\n",
    "            weighted_sum = w1*x1 + w2*x2 + b\n",
    "            y_predicted = sigmoid_np(weighted_sum)\n",
    "            loss = log_loss(y_true,y_predicted)\n",
    "            \n",
    "            #Calculating derivatives:\n",
    "            dj_dw1 = (1/n)*(np.dot(np.transpose(x1),(y_predicted-y_true)))\n",
    "            dj_dw2 = (1/n)*(np.dot(np.transpose(x2),(y_predicted-y_true)))\n",
    "            dj_db = np.mean(y_predicted-y_train)\n",
    "            \n",
    "            #updaing the parameters:\n",
    "            w1 = w1 - rate*dj_dw1\n",
    "            w2 = w2 - rate*dj_dw2\n",
    "            b = b - rate*dj_db\n",
    "            \n",
    "            print(f'epoch:{epoch} , w1:{w1} , w2:{w2} , loss:{loss}')\n",
    "            \n",
    "        return w1,w2,b"
   ]
  },
  {
   "cell_type": "code",
   "execution_count": 13,
   "id": "addc59f4",
   "metadata": {},
   "outputs": [],
   "source": [
    "custommodel = myNN()\n",
    "custommodel.fit(x_train_scaled, y_train , epochs=5)"
   ]
  },
  {
   "cell_type": "code",
   "execution_count": null,
   "id": "3ddd250b",
   "metadata": {},
   "outputs": [],
   "source": []
  }
 ],
 "metadata": {
  "kernelspec": {
   "display_name": "Python 3 (ipykernel)",
   "language": "python",
   "name": "python3"
  },
  "language_info": {
   "codemirror_mode": {
    "name": "ipython",
    "version": 3
   },
   "file_extension": ".py",
   "mimetype": "text/x-python",
   "name": "python",
   "nbconvert_exporter": "python",
   "pygments_lexer": "ipython3",
   "version": "3.10.4"
  }
 },
 "nbformat": 4,
 "nbformat_minor": 5
}
